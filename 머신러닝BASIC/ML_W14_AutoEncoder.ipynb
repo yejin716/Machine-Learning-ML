{
  "nbformat": 4,
  "nbformat_minor": 0,
  "metadata": {
    "colab": {
      "provenance": [],
      "gpuType": "T4"
    },
    "kernelspec": {
      "name": "python3",
      "display_name": "Python 3"
    },
    "language_info": {
      "name": "python"
    },
    "accelerator": "GPU"
  },
  "cells": [
    {
      "cell_type": "code",
      "execution_count": 2,
      "metadata": {
        "id": "BGg_rkwCQ5go"
      },
      "outputs": [],
      "source": [
        "import numpy as np\n",
        "import pandas as pd\n",
        "import matplotlib.pyplot as plt\n",
        "\n",
        "import keras\n",
        "from keras import layers\n",
        "\n",
        "from keras.datasets import mnist"
      ]
    },
    {
      "cell_type": "code",
      "source": [
        "#데이터 불러오기\n",
        "# _ >> y_train, y_test 사용 안함\n",
        "#이미지 데이터 구성 (이미지, 라벨)\n",
        "#이미지만 사용하겠다\n",
        "\n",
        "(x_train, _ ),(x_test, _ ) =  mnist.load_data()\n",
        "\n"
      ],
      "metadata": {
        "colab": {
          "base_uri": "https://localhost:8080/"
        },
        "id": "EGNuXzZ7RMgH",
        "outputId": "0ff37d09-6e77-4251-be1c-a283c018b500"
      },
      "execution_count": 3,
      "outputs": [
        {
          "output_type": "stream",
          "name": "stdout",
          "text": [
            "Downloading data from https://storage.googleapis.com/tensorflow/tf-keras-datasets/mnist.npz\n",
            "11490434/11490434 [==============================] - 2s 0us/step\n"
          ]
        }
      ]
    },
    {
      "cell_type": "code",
      "source": [
        "# 0 과 1 사이(0-1)로 정규화\n",
        "x_train = x_train.astype('float32') / 255\n",
        "x_test = x_test.astype('float32') / 255"
      ],
      "metadata": {
        "id": "xBJ_DKbhRMiH"
      },
      "execution_count": 4,
      "outputs": []
    },
    {
      "cell_type": "code",
      "source": [
        "print(len(x_train))\n",
        "print(len(x_test))\n"
      ],
      "metadata": {
        "colab": {
          "base_uri": "https://localhost:8080/"
        },
        "id": "3C7S4BVbRMj-",
        "outputId": "15406b3f-c99a-4f02-edfa-814f439611c7"
      },
      "execution_count": 5,
      "outputs": [
        {
          "output_type": "stream",
          "name": "stdout",
          "text": [
            "60000\n",
            "10000\n"
          ]
        }
      ]
    },
    {
      "cell_type": "code",
      "source": [
        "x_train.shape\n",
        "#28 * 28 크기의 이미지 60000장"
      ],
      "metadata": {
        "colab": {
          "base_uri": "https://localhost:8080/"
        },
        "id": "tFqBeNSFRMlw",
        "outputId": "ac107881-ace1-4a09-d64f-b1b831c6611d"
      },
      "execution_count": 7,
      "outputs": [
        {
          "output_type": "execute_result",
          "data": {
            "text/plain": [
              "(60000, 28, 28)"
            ]
          },
          "metadata": {},
          "execution_count": 7
        }
      ]
    },
    {
      "cell_type": "code",
      "source": [
        "x_train.shape[1:]\n",
        "# 이미지 크기 (2차원)"
      ],
      "metadata": {
        "colab": {
          "base_uri": "https://localhost:8080/"
        },
        "id": "hip8X6RnRMng",
        "outputId": "edd6ef4e-edbf-4f3e-fbb2-2641b1c62365"
      },
      "execution_count": 8,
      "outputs": [
        {
          "output_type": "execute_result",
          "data": {
            "text/plain": [
              "(28, 28)"
            ]
          },
          "metadata": {},
          "execution_count": 8
        }
      ]
    },
    {
      "cell_type": "code",
      "source": [
        "np.prod(x_train.shape[1:]) # (28 * 28) / prod() >> 주어진 배열이나 튜플의 모든 요소 곱하기 (1차원)"
      ],
      "metadata": {
        "colab": {
          "base_uri": "https://localhost:8080/"
        },
        "id": "N5VzvEDmRMpZ",
        "outputId": "e8847a42-9de7-4548-94d2-68864d5a0eb4"
      },
      "execution_count": 10,
      "outputs": [
        {
          "output_type": "execute_result",
          "data": {
            "text/plain": [
              "784"
            ]
          },
          "metadata": {},
          "execution_count": 10
        }
      ]
    },
    {
      "cell_type": "code",
      "source": [
        "x_train = x_train.reshape(len(x_train), np.prod(x_train.shape[1:]))\n",
        "x_test = x_test.reshape(len(x_test), np.prod(x_test.shape[1:]))\n"
      ],
      "metadata": {
        "id": "yT717cF0RMrg"
      },
      "execution_count": 12,
      "outputs": []
    },
    {
      "cell_type": "code",
      "source": [
        "x_train.shape, x_test.shape"
      ],
      "metadata": {
        "colab": {
          "base_uri": "https://localhost:8080/"
        },
        "id": "oxW0l5vDRMtD",
        "outputId": "35d45f09-6595-4490-d935-d561472a107a"
      },
      "execution_count": 13,
      "outputs": [
        {
          "output_type": "execute_result",
          "data": {
            "text/plain": [
              "((60000, 784), (10000, 784))"
            ]
          },
          "metadata": {},
          "execution_count": 13
        }
      ]
    },
    {
      "cell_type": "markdown",
      "source": [
        "autoencoder 모델링"
      ],
      "metadata": {
        "id": "xwCEgvR9TTra"
      }
    },
    {
      "cell_type": "code",
      "source": [
        "#encoding 되는 차원수\n",
        "encoding_dim = 32\n",
        "\n",
        "#input player\n",
        "input_img = keras.Input(shape=(784,)) # 1차원\n",
        "# 784 >> 1차원으로 들어감\n",
        "\n",
        "# hidden layer(784차원 >> 32차원)\n",
        "encoded = layers.Dense(encoding_dim, activation='relu')(input_img)\n",
        "#Dense() : 1차원\n",
        "\n",
        "#output layer (32차원 >> 784차원)\n",
        "decoded = layers.Dense(784, activation='sigmoid')(encoded)\n",
        "# 784차원으로 나오면 다중 분류니깐 softmx써야하는거 아니야? >> 일반적으로 다중분류는 softmax, 오토인코더는 복원하는 인공지능 기법(출력값은 0 또는 1사이로 제한)\n",
        "\n",
        "#autoencoder model\n",
        "autoencoder = keras.Model(input_img, decoded)"
      ],
      "metadata": {
        "id": "4ryB4oAhRMvJ"
      },
      "execution_count": 15,
      "outputs": []
    },
    {
      "cell_type": "code",
      "source": [
        "autoencoder.summary()\n",
        "\n",
        "#파라미터 수 = (입력 유닛 수 * 출력 유닛 수) + 출력 유닛 수 (바이어스)\n",
        "\n",
        "# dense\n",
        "# 입력 유닛 수: 784\n",
        "# 출력 유닛 수: 32\n",
        "# 파라미터 수 = (784 * 32) + 32 = 25120\n",
        "\n",
        "# dense_1\n",
        "# 입력 유닛 수: 32\n",
        "# 출력 유닛 수: 784\n",
        "# 파라미터 수 = (32 * 784) + 784 = 25872"
      ],
      "metadata": {
        "colab": {
          "base_uri": "https://localhost:8080/"
        },
        "id": "EhXGgAj9RMxF",
        "outputId": "c50c7ef1-e603-4af8-cdfc-be9fd5b3ae2e"
      },
      "execution_count": 16,
      "outputs": [
        {
          "output_type": "stream",
          "name": "stdout",
          "text": [
            "Model: \"model\"\n",
            "_________________________________________________________________\n",
            " Layer (type)                Output Shape              Param #   \n",
            "=================================================================\n",
            " input_1 (InputLayer)        [(None, 784)]             0         \n",
            "                                                                 \n",
            " dense (Dense)               (None, 32)                25120     \n",
            "                                                                 \n",
            " dense_1 (Dense)             (None, 784)               25872     \n",
            "                                                                 \n",
            "=================================================================\n",
            "Total params: 50992 (199.19 KB)\n",
            "Trainable params: 50992 (199.19 KB)\n",
            "Non-trainable params: 0 (0.00 Byte)\n",
            "_________________________________________________________________\n"
          ]
        }
      ]
    },
    {
      "cell_type": "markdown",
      "source": [
        "autoencoder 학습"
      ],
      "metadata": {
        "id": "rl-jEDMzWkxH"
      }
    },
    {
      "cell_type": "code",
      "source": [
        "autoencoder.compile(optimizer='adam', loss='binary_crossentropy')\n",
        "\n",
        "#적합 (train, fitting)\n",
        "\n",
        "autoencoder.fit(x_train, x_train,\n",
        "                epochs = 20,\n",
        "                batch_size=256,\n",
        "                shuffle=True,\n",
        "                validation_data=(x_test, x_test))"
      ],
      "metadata": {
        "colab": {
          "base_uri": "https://localhost:8080/"
        },
        "id": "bNXZY_waRMyn",
        "outputId": "cf5ed5fd-c37c-4079-8c86-07ac41db3b22"
      },
      "execution_count": 17,
      "outputs": [
        {
          "output_type": "stream",
          "name": "stdout",
          "text": [
            "Epoch 1/20\n",
            "235/235 [==============================] - 4s 6ms/step - loss: 0.2759 - val_loss: 0.1913\n",
            "Epoch 2/20\n",
            "235/235 [==============================] - 1s 4ms/step - loss: 0.1714 - val_loss: 0.1548\n",
            "Epoch 3/20\n",
            "235/235 [==============================] - 1s 4ms/step - loss: 0.1453 - val_loss: 0.1346\n",
            "Epoch 4/20\n",
            "235/235 [==============================] - 1s 4ms/step - loss: 0.1290 - val_loss: 0.1216\n",
            "Epoch 5/20\n",
            "235/235 [==============================] - 1s 4ms/step - loss: 0.1182 - val_loss: 0.1125\n",
            "Epoch 6/20\n",
            "235/235 [==============================] - 1s 4ms/step - loss: 0.1107 - val_loss: 0.1064\n",
            "Epoch 7/20\n",
            "235/235 [==============================] - 1s 4ms/step - loss: 0.1055 - val_loss: 0.1021\n",
            "Epoch 8/20\n",
            "235/235 [==============================] - 1s 4ms/step - loss: 0.1019 - val_loss: 0.0995\n",
            "Epoch 9/20\n",
            "235/235 [==============================] - 1s 4ms/step - loss: 0.0993 - val_loss: 0.0971\n",
            "Epoch 10/20\n",
            "235/235 [==============================] - 1s 4ms/step - loss: 0.0975 - val_loss: 0.0955\n",
            "Epoch 11/20\n",
            "235/235 [==============================] - 1s 6ms/step - loss: 0.0963 - val_loss: 0.0945\n",
            "Epoch 12/20\n",
            "235/235 [==============================] - 1s 6ms/step - loss: 0.0955 - val_loss: 0.0938\n",
            "Epoch 13/20\n",
            "235/235 [==============================] - 1s 5ms/step - loss: 0.0949 - val_loss: 0.0935\n",
            "Epoch 14/20\n",
            "235/235 [==============================] - 1s 4ms/step - loss: 0.0945 - val_loss: 0.0930\n",
            "Epoch 15/20\n",
            "235/235 [==============================] - 1s 4ms/step - loss: 0.0942 - val_loss: 0.0928\n",
            "Epoch 16/20\n",
            "235/235 [==============================] - 1s 4ms/step - loss: 0.0940 - val_loss: 0.0926\n",
            "Epoch 17/20\n",
            "235/235 [==============================] - 1s 4ms/step - loss: 0.0938 - val_loss: 0.0924\n",
            "Epoch 18/20\n",
            "235/235 [==============================] - 1s 4ms/step - loss: 0.0937 - val_loss: 0.0923\n",
            "Epoch 19/20\n",
            "235/235 [==============================] - 1s 4ms/step - loss: 0.0936 - val_loss: 0.0923\n",
            "Epoch 20/20\n",
            "235/235 [==============================] - 1s 4ms/step - loss: 0.0935 - val_loss: 0.0922\n"
          ]
        },
        {
          "output_type": "execute_result",
          "data": {
            "text/plain": [
              "<keras.src.callbacks.History at 0x7d5cf35eb400>"
            ]
          },
          "metadata": {},
          "execution_count": 17
        }
      ]
    },
    {
      "cell_type": "markdown",
      "source": [
        "학습결과 확인"
      ],
      "metadata": {
        "id": "Sctdi8tAYEpI"
      }
    },
    {
      "cell_type": "code",
      "source": [
        "decoded_imgs = autoencoder.predict(x_test)"
      ],
      "metadata": {
        "colab": {
          "base_uri": "https://localhost:8080/"
        },
        "id": "rclHw5LyRM0W",
        "outputId": "f1b230bd-4a77-49e7-aab1-3f05a656bf0c"
      },
      "execution_count": 18,
      "outputs": [
        {
          "output_type": "stream",
          "name": "stdout",
          "text": [
            "313/313 [==============================] - 1s 2ms/step\n"
          ]
        }
      ]
    },
    {
      "cell_type": "code",
      "source": [
        "n = 10\n",
        "\n",
        "plt.figure(figsize=(20, 4))\n",
        "\n",
        "for i in range(n):\n",
        "    # display (original image)\n",
        "    ax = plt.subplot(2, n, i+1)\n",
        "    plt.imshow(x_test[i].reshape(28,28)) # 2차원 이미지로 복원\n",
        "    plt.gray()\n",
        "    ax.get_xaxis().set_visible(False) # x, y 축을 보여주지 마라\n",
        "    ax.get_yaxis().set_visible(False)\n",
        "\n",
        "    #display (복원된 이미지)\n",
        "    ax = plt.subplot(2, n, i+1+n)\n",
        "    plt.imshow(decoded_imgs[i].reshape(28,28)) # 2차원 이미지로 복원\n",
        "    plt.gray()\n",
        "    ax.get_xaxis().set_visible(False) # x, y 축을 보여주지 마라\n",
        "    ax.get_yaxis().set_visible(False)\n",
        "\n",
        "plt.show()\n"
      ],
      "metadata": {
        "colab": {
          "base_uri": "https://localhost:8080/",
          "height": 187
        },
        "id": "yDcYr4HeZej9",
        "outputId": "1660807c-bc1d-4a47-ec2e-7ca41f55b2bf"
      },
      "execution_count": 24,
      "outputs": [
        {
          "output_type": "display_data",
          "data": {
            "text/plain": [
              "<Figure size 2000x400 with 20 Axes>"
            ],
            "image/png": "[encoded data removed]"
          },
          "metadata": {}
        }
      ]
    }
  ]
}