{
  "cells": [
    {
      "cell_type": "code",
      "execution_count": 1,
      "metadata": {
        "id": "dWfG77XWDyBd"
      },
      "outputs": [],
      "source": [
        "import numpy as np\n",
        "import pandas as pd\n",
        "import matplotlib.pyplot as plt\n",
        "\n",
        "from sklearn import svm, datasets"
      ]
    },
    {
      "cell_type": "markdown",
      "metadata": {
        "id": "TCKzxcqGEBOx"
      },
      "source": [
        "# svm 간단한 예제_ 분류"
      ]
    },
    {
      "cell_type": "code",
      "execution_count": 2,
      "metadata": {
        "colab": {
          "base_uri": "https://localhost:8080/",
          "height": 75
        },
        "id": "PrvpkZhSEAr1",
        "outputId": "6ea26315-48e3-4fc3-990b-8881990fd994"
      },
      "outputs": [
        {
          "data": {
            "text/html": [
              "<style>#sk-container-id-1 {color: black;background-color: white;}#sk-container-id-1 pre{padding: 0;}#sk-container-id-1 div.sk-toggleable {background-color: white;}#sk-container-id-1 label.sk-toggleable__label {cursor: pointer;display: block;width: 100%;margin-bottom: 0;padding: 0.3em;box-sizing: border-box;text-align: center;}#sk-container-id-1 label.sk-toggleable__label-arrow:before {content: \"▸\";float: left;margin-right: 0.25em;color: #696969;}#sk-container-id-1 label.sk-toggleable__label-arrow:hover:before {color: black;}#sk-container-id-1 div.sk-estimator:hover label.sk-toggleable__label-arrow:before {color: black;}#sk-container-id-1 div.sk-toggleable__content {max-height: 0;max-width: 0;overflow: hidden;text-align: left;background-color: #f0f8ff;}#sk-container-id-1 div.sk-toggleable__content pre {margin: 0.2em;color: black;border-radius: 0.25em;background-color: #f0f8ff;}#sk-container-id-1 input.sk-toggleable__control:checked~div.sk-toggleable__content {max-height: 200px;max-width: 100%;overflow: auto;}#sk-container-id-1 input.sk-toggleable__control:checked~label.sk-toggleable__label-arrow:before {content: \"▾\";}#sk-container-id-1 div.sk-estimator input.sk-toggleable__control:checked~label.sk-toggleable__label {background-color: #d4ebff;}#sk-container-id-1 div.sk-label input.sk-toggleable__control:checked~label.sk-toggleable__label {background-color: #d4ebff;}#sk-container-id-1 input.sk-hidden--visually {border: 0;clip: rect(1px 1px 1px 1px);clip: rect(1px, 1px, 1px, 1px);height: 1px;margin: -1px;overflow: hidden;padding: 0;position: absolute;width: 1px;}#sk-container-id-1 div.sk-estimator {font-family: monospace;background-color: #f0f8ff;border: 1px dotted black;border-radius: 0.25em;box-sizing: border-box;margin-bottom: 0.5em;}#sk-container-id-1 div.sk-estimator:hover {background-color: #d4ebff;}#sk-container-id-1 div.sk-parallel-item::after {content: \"\";width: 100%;border-bottom: 1px solid gray;flex-grow: 1;}#sk-container-id-1 div.sk-label:hover label.sk-toggleable__label {background-color: #d4ebff;}#sk-container-id-1 div.sk-serial::before {content: \"\";position: absolute;border-left: 1px solid gray;box-sizing: border-box;top: 0;bottom: 0;left: 50%;z-index: 0;}#sk-container-id-1 div.sk-serial {display: flex;flex-direction: column;align-items: center;background-color: white;padding-right: 0.2em;padding-left: 0.2em;position: relative;}#sk-container-id-1 div.sk-item {position: relative;z-index: 1;}#sk-container-id-1 div.sk-parallel {display: flex;align-items: stretch;justify-content: center;background-color: white;position: relative;}#sk-container-id-1 div.sk-item::before, #sk-container-id-1 div.sk-parallel-item::before {content: \"\";position: absolute;border-left: 1px solid gray;box-sizing: border-box;top: 0;bottom: 0;left: 50%;z-index: -1;}#sk-container-id-1 div.sk-parallel-item {display: flex;flex-direction: column;z-index: 1;position: relative;background-color: white;}#sk-container-id-1 div.sk-parallel-item:first-child::after {align-self: flex-end;width: 50%;}#sk-container-id-1 div.sk-parallel-item:last-child::after {align-self: flex-start;width: 50%;}#sk-container-id-1 div.sk-parallel-item:only-child::after {width: 0;}#sk-container-id-1 div.sk-dashed-wrapped {border: 1px dashed gray;margin: 0 0.4em 0.5em 0.4em;box-sizing: border-box;padding-bottom: 0.4em;background-color: white;}#sk-container-id-1 div.sk-label label {font-family: monospace;font-weight: bold;display: inline-block;line-height: 1.2em;}#sk-container-id-1 div.sk-label-container {text-align: center;}#sk-container-id-1 div.sk-container {/* jupyter's `normalize.less` sets `[hidden] { display: none; }` but bootstrap.min.css set `[hidden] { display: none !important; }` so we also need the `!important` here to be able to override the default hidden behavior on the sphinx rendered scikit-learn.org. See: https://github.com/scikit-learn/scikit-learn/issues/21755 */display: inline-block !important;position: relative;}#sk-container-id-1 div.sk-text-repr-fallback {display: none;}</style><div id=\"sk-container-id-1\" class=\"sk-top-container\"><div class=\"sk-text-repr-fallback\"><pre>SVC()</pre><b>In a Jupyter environment, please rerun this cell to show the HTML representation or trust the notebook. <br />On GitHub, the HTML representation is unable to render, please try loading this page with nbviewer.org.</b></div><div class=\"sk-container\" hidden><div class=\"sk-item\"><div class=\"sk-estimator sk-toggleable\"><input class=\"sk-toggleable__control sk-hidden--visually\" id=\"sk-estimator-id-1\" type=\"checkbox\" checked><label for=\"sk-estimator-id-1\" class=\"sk-toggleable__label sk-toggleable__label-arrow\">SVC</label><div class=\"sk-toggleable__content\"><pre>SVC()</pre></div></div></div></div></div>"
            ],
            "text/plain": [
              "SVC()"
            ]
          },
          "execution_count": 2,
          "metadata": {},
          "output_type": "execute_result"
        }
      ],
      "source": [
        "x = [[0,0],[1,1]]\n",
        "y = [0,1]\n",
        "\n",
        "clf = svm.SVC()\n",
        "clf.fit(x,y)"
      ]
    },
    {
      "cell_type": "code",
      "execution_count": 3,
      "metadata": {
        "colab": {
          "base_uri": "https://localhost:8080/",
          "height": 455
        },
        "id": "Jn4InzXdEF_k",
        "outputId": "5fb3544c-2f5f-4b4a-a833-acfa5bdce20e"
      },
      "outputs": [
        {
          "data": {
            "image/png": "[encoded data removed]",
            "text/plain": [
              "<Figure size 640x480 with 1 Axes>"
            ]
          },
          "metadata": {},
          "output_type": "display_data"
        }
      ],
      "source": [
        "#데이터 시각화\n",
        "\n",
        "plt.scatter([0],[0], c='red')\n",
        "plt.scatter([1],[1], c='blue')\n",
        "\n",
        "\n",
        "plt.xlim(-2,3)\n",
        "plt.ylim(-2,3)\n",
        "plt.xlabel('x[0]')\n",
        "plt.ylabel('x[1]')\n",
        "\n",
        "plt.grid()\n",
        "plt.show()\n",
        "\n"
      ]
    },
    {
      "cell_type": "code",
      "execution_count": 4,
      "metadata": {
        "colab": {
          "base_uri": "https://localhost:8080/"
        },
        "id": "HosAry7BEbnG",
        "outputId": "7cf7337f-f76c-47f2-87bf-f22c18c2eb13"
      },
      "outputs": [
        {
          "data": {
            "text/plain": [
              "array([0])"
            ]
          },
          "execution_count": 4,
          "metadata": {},
          "output_type": "execute_result"
        }
      ],
      "source": [
        "#test data 예측 >> 첫번째 클래스로 예측\n",
        "\n",
        "clf.predict([[-1, -1]])"
      ]
    },
    {
      "cell_type": "code",
      "execution_count": 5,
      "metadata": {
        "colab": {
          "base_uri": "https://localhost:8080/"
        },
        "id": "hx2TSQZqEpYE",
        "outputId": "2a807a82-c7a5-4b68-ddc2-173b2b2fbeea"
      },
      "outputs": [
        {
          "data": {
            "text/plain": [
              "array([1])"
            ]
          },
          "execution_count": 5,
          "metadata": {},
          "output_type": "execute_result"
        }
      ],
      "source": [
        "clf.predict([[2,2]])"
      ]
    },
    {
      "cell_type": "code",
      "execution_count": 6,
      "metadata": {
        "colab": {
          "base_uri": "https://localhost:8080/"
        },
        "id": "wQA9LilCEseN",
        "outputId": "70d4cfc8-558b-4e06-e7da-95cb76afedcf"
      },
      "outputs": [
        {
          "data": {
            "text/plain": [
              "array([[0., 0.],\n",
              "       [1., 1.]])"
            ]
          },
          "execution_count": 6,
          "metadata": {},
          "output_type": "execute_result"
        }
      ],
      "source": [
        "#support vector 확인\n",
        "\n",
        "clf.support_vectors_"
      ]
    },
    {
      "cell_type": "code",
      "execution_count": 7,
      "metadata": {
        "colab": {
          "base_uri": "https://localhost:8080/"
        },
        "id": "8LtffL6MExYU",
        "outputId": "c5b4c845-83b6-42f0-956c-e34e252f2f61"
      },
      "outputs": [
        {
          "data": {
            "text/plain": [
              "array([0, 1])"
            ]
          },
          "execution_count": 7,
          "metadata": {},
          "output_type": "execute_result"
        }
      ],
      "source": [
        "#support vector의 data index\n",
        "#데이터 중 몇번째 데이터가 support vector인지 확인\n",
        "#여기서, 0번, 1번 데이터가 support vector\n",
        "clf.support_"
      ]
    },
    {
      "cell_type": "code",
      "execution_count": 8,
      "metadata": {
        "colab": {
          "base_uri": "https://localhost:8080/"
        },
        "id": "St8N5Fy-ExaN",
        "outputId": "0139267f-4d59-44e1-9551-82099c79c4a5"
      },
      "outputs": [
        {
          "data": {
            "text/plain": [
              "array([1, 1])"
            ]
          },
          "execution_count": 8,
          "metadata": {},
          "output_type": "execute_result"
        }
      ],
      "source": [
        "#class 별 support vector의 개수\n",
        "#여기서는 각 클래스별 1개씩 존재\n",
        "clf.n_support_"
      ]
    },
    {
      "cell_type": "markdown",
      "metadata": {
        "id": "mYtjvPtiFigd"
      },
      "source": [
        "# SVM 분류 예제 iris data"
      ]
    },
    {
      "cell_type": "code",
      "execution_count": 9,
      "metadata": {
        "id": "GR_7wtXSExdv"
      },
      "outputs": [],
      "source": [
        "#0, 1번 꽃의 꽃받침(sepal)의 길이(length), 너비(width)만 저장\n",
        "iris = datasets.load_iris()\n",
        "\n",
        "x_iris = iris.data[:100, :2]\n",
        "y_iris = iris.target[:100]"
      ]
    },
    {
      "cell_type": "code",
      "execution_count": 10,
      "metadata": {
        "colab": {
          "base_uri": "https://localhost:8080/"
        },
        "id": "W5nnsOd0FoX2",
        "outputId": "b09ca504-afdf-4def-aacd-d141104de5eb"
      },
      "outputs": [
        {
          "data": {
            "text/plain": [
              "(array([[5.1, 3.5],\n",
              "        [4.9, 3. ],\n",
              "        [4.7, 3.2],\n",
              "        [4.6, 3.1],\n",
              "        [5. , 3.6],\n",
              "        [5.4, 3.9],\n",
              "        [4.6, 3.4],\n",
              "        [5. , 3.4],\n",
              "        [4.4, 2.9],\n",
              "        [4.9, 3.1],\n",
              "        [5.4, 3.7],\n",
              "        [4.8, 3.4],\n",
              "        [4.8, 3. ],\n",
              "        [4.3, 3. ],\n",
              "        [5.8, 4. ],\n",
              "        [5.7, 4.4],\n",
              "        [5.4, 3.9],\n",
              "        [5.1, 3.5],\n",
              "        [5.7, 3.8],\n",
              "        [5.1, 3.8],\n",
              "        [5.4, 3.4],\n",
              "        [5.1, 3.7],\n",
              "        [4.6, 3.6],\n",
              "        [5.1, 3.3],\n",
              "        [4.8, 3.4],\n",
              "        [5. , 3. ],\n",
              "        [5. , 3.4],\n",
              "        [5.2, 3.5],\n",
              "        [5.2, 3.4],\n",
              "        [4.7, 3.2],\n",
              "        [4.8, 3.1],\n",
              "        [5.4, 3.4],\n",
              "        [5.2, 4.1],\n",
              "        [5.5, 4.2],\n",
              "        [4.9, 3.1],\n",
              "        [5. , 3.2],\n",
              "        [5.5, 3.5],\n",
              "        [4.9, 3.6],\n",
              "        [4.4, 3. ],\n",
              "        [5.1, 3.4],\n",
              "        [5. , 3.5],\n",
              "        [4.5, 2.3],\n",
              "        [4.4, 3.2],\n",
              "        [5. , 3.5],\n",
              "        [5.1, 3.8],\n",
              "        [4.8, 3. ],\n",
              "        [5.1, 3.8],\n",
              "        [4.6, 3.2],\n",
              "        [5.3, 3.7],\n",
              "        [5. , 3.3],\n",
              "        [7. , 3.2],\n",
              "        [6.4, 3.2],\n",
              "        [6.9, 3.1],\n",
              "        [5.5, 2.3],\n",
              "        [6.5, 2.8],\n",
              "        [5.7, 2.8],\n",
              "        [6.3, 3.3],\n",
              "        [4.9, 2.4],\n",
              "        [6.6, 2.9],\n",
              "        [5.2, 2.7],\n",
              "        [5. , 2. ],\n",
              "        [5.9, 3. ],\n",
              "        [6. , 2.2],\n",
              "        [6.1, 2.9],\n",
              "        [5.6, 2.9],\n",
              "        [6.7, 3.1],\n",
              "        [5.6, 3. ],\n",
              "        [5.8, 2.7],\n",
              "        [6.2, 2.2],\n",
              "        [5.6, 2.5],\n",
              "        [5.9, 3.2],\n",
              "        [6.1, 2.8],\n",
              "        [6.3, 2.5],\n",
              "        [6.1, 2.8],\n",
              "        [6.4, 2.9],\n",
              "        [6.6, 3. ],\n",
              "        [6.8, 2.8],\n",
              "        [6.7, 3. ],\n",
              "        [6. , 2.9],\n",
              "        [5.7, 2.6],\n",
              "        [5.5, 2.4],\n",
              "        [5.5, 2.4],\n",
              "        [5.8, 2.7],\n",
              "        [6. , 2.7],\n",
              "        [5.4, 3. ],\n",
              "        [6. , 3.4],\n",
              "        [6.7, 3.1],\n",
              "        [6.3, 2.3],\n",
              "        [5.6, 3. ],\n",
              "        [5.5, 2.5],\n",
              "        [5.5, 2.6],\n",
              "        [6.1, 3. ],\n",
              "        [5.8, 2.6],\n",
              "        [5. , 2.3],\n",
              "        [5.6, 2.7],\n",
              "        [5.7, 3. ],\n",
              "        [5.7, 2.9],\n",
              "        [6.2, 2.9],\n",
              "        [5.1, 2.5],\n",
              "        [5.7, 2.8]]),\n",
              " array([0, 0, 0, 0, 0, 0, 0, 0, 0, 0, 0, 0, 0, 0, 0, 0, 0, 0, 0, 0, 0, 0,\n",
              "        0, 0, 0, 0, 0, 0, 0, 0, 0, 0, 0, 0, 0, 0, 0, 0, 0, 0, 0, 0, 0, 0,\n",
              "        0, 0, 0, 0, 0, 0, 1, 1, 1, 1, 1, 1, 1, 1, 1, 1, 1, 1, 1, 1, 1, 1,\n",
              "        1, 1, 1, 1, 1, 1, 1, 1, 1, 1, 1, 1, 1, 1, 1, 1, 1, 1, 1, 1, 1, 1,\n",
              "        1, 1, 1, 1, 1, 1, 1, 1, 1, 1, 1, 1]))"
            ]
          },
          "execution_count": 10,
          "metadata": {},
          "output_type": "execute_result"
        }
      ],
      "source": [
        "x_iris, y_iris"
      ]
    },
    {
      "cell_type": "code",
      "execution_count": 11,
      "metadata": {
        "id": "uEU-Bz2BFoaA"
      },
      "outputs": [],
      "source": [
        "# SVM reqularization parameter\n",
        "# 여기서 C는 SVM수식에 나오는 C와 반비례 관계\n",
        "# >> C가 클수록 >> 더 작은 수의 support vector 허용\n",
        "# 원래 수식 C : C가 클수록 더많은 수의 support vector 허용"
      ]
    },
    {
      "cell_type": "code",
      "execution_count": 12,
      "metadata": {
        "id": "HhS1e6UcFobw"
      },
      "outputs": [],
      "source": [
        "C = 100\n",
        "\n",
        "#훈련용 데이터 적합\n",
        "clf = svm.SVC(kernel='linear', C=C).fit(x_iris, y_iris)"
      ]
    },
    {
      "cell_type": "code",
      "execution_count": 13,
      "metadata": {
        "colab": {
          "base_uri": "https://localhost:8080/"
        },
        "id": "mx-htaXvFodf",
        "outputId": "2f43fa0d-e245-4c99-856d-07310d85a699"
      },
      "outputs": [
        {
          "data": {
            "text/plain": [
              "array([[5.5, 3.5],\n",
              "       [4.5, 2.3],\n",
              "       [4.9, 2.4],\n",
              "       [5.4, 3. ]])"
            ]
          },
          "execution_count": 13,
          "metadata": {},
          "output_type": "execute_result"
        }
      ],
      "source": [
        "# SV\n",
        "clf.support_vectors_"
      ]
    },
    {
      "cell_type": "code",
      "execution_count": 14,
      "metadata": {
        "colab": {
          "base_uri": "https://localhost:8080/"
        },
        "id": "EC5iWLVvFofX",
        "outputId": "31c000b0-04e2-47bb-b684-2e57bfc078b6"
      },
      "outputs": [
        {
          "data": {
            "text/plain": [
              "array([36, 41, 57, 84])"
            ]
          },
          "execution_count": 14,
          "metadata": {},
          "output_type": "execute_result"
        }
      ],
      "source": [
        "#support vectors의 data index\n",
        "# 36, 41, 57, 84가 sv로 선정\n",
        "\n",
        "clf.support_"
      ]
    },
    {
      "cell_type": "code",
      "execution_count": 15,
      "metadata": {
        "colab": {
          "base_uri": "https://localhost:8080/"
        },
        "id": "XfyQx9sEHv46",
        "outputId": "dd1159f7-97a1-44ae-a609-ddb0ab18f0ab"
      },
      "outputs": [
        {
          "data": {
            "text/plain": [
              "36"
            ]
          },
          "execution_count": 15,
          "metadata": {},
          "output_type": "execute_result"
        }
      ],
      "source": [
        "clf.support_[0]"
      ]
    },
    {
      "cell_type": "code",
      "execution_count": 16,
      "metadata": {
        "colab": {
          "base_uri": "https://localhost:8080/"
        },
        "id": "uHWoFmxSExgG",
        "outputId": "31282f46-018c-4a46-ca7f-ae41eff693f4"
      },
      "outputs": [
        {
          "data": {
            "text/plain": [
              "array([5.5, 3.5])"
            ]
          },
          "execution_count": 16,
          "metadata": {},
          "output_type": "execute_result"
        }
      ],
      "source": [
        "x_iris[clf.support_[0]] # 36번 index의 데이터"
      ]
    },
    {
      "cell_type": "code",
      "execution_count": 17,
      "metadata": {
        "colab": {
          "base_uri": "https://localhost:8080/"
        },
        "id": "ZcmonglRExh4",
        "outputId": "b8c8a004-107a-4a03-8ed4-7221ed452511"
      },
      "outputs": [
        {
          "data": {
            "text/plain": [
              "array([2, 2])"
            ]
          },
          "execution_count": 17,
          "metadata": {},
          "output_type": "execute_result"
        }
      ],
      "source": [
        "# 클래스 별 support vectors의 개수\n",
        "# 0번 클래스(꽃)2개, 1번 클래스(꽃) 2개\n",
        "clf.n_support_"
      ]
    },
    {
      "cell_type": "code",
      "execution_count": 18,
      "metadata": {
        "colab": {
          "base_uri": "https://localhost:8080/",
          "height": 540
        },
        "id": "Gc0lCJYKExjm",
        "outputId": "93c23e15-fe9b-458e-83e0-390185628d47"
      },
      "outputs": [
        {
          "data": {
            "image/png": "[encoded data removed]",
            "text/plain": [
              "<Figure size 800x600 with 1 Axes>"
            ]
          },
          "metadata": {},
          "output_type": "display_data"
        }
      ],
      "source": [
        "#svc 시각화\n",
        "\n",
        "plt.figure(figsize=(8,6))\n",
        "\n",
        "#분류 경계선, 배경 만들기\n",
        "h = .02 #step size in the mesh\n",
        "\n",
        "x_min, x_max = x_iris[:, 0].min() - 1, x_iris[:, 0].max() + 1\n",
        "y_min, y_max = x_iris[:, 1].min() - 1, x_iris[:, 1].max() + 1\n",
        "\n",
        "xx, yy = np.meshgrid(np.arange(x_min, x_max, h),\n",
        "            (np.arange(y_min, y_max, h)))\n",
        "\n",
        "z = clf.predict(np.c_[xx.ravel(), yy.ravel()])\n",
        "#ravel() 차원을 축소 함 (2차원 >> 1차원 ) / .c_는 열 단위로 연결 (1차원 >> 2차원)\n",
        "\n",
        "#meshgrid 형태(xx.shape)로 z shape 변경\n",
        "z = z.reshape(xx.shape)\n",
        "plt.contourf(xx, yy, z, cmap=plt.cm.coolwarm, alpha=0.8)\n",
        "#결정경계를 채워진 등고선 그림, cmap : color map\n",
        "\n",
        "# 훈련용 데이터를 배경 위에 표시 (꽃받침 길이와 너비)\n",
        "plt.scatter(x_iris[:, 0], x_iris[:, 1], c=y_iris, cmap=plt.cm.coolwarm)\n",
        "\n",
        "# support vector를 배경 위에 표시\n",
        "for idx in clf.support_:\n",
        "    plt.scatter(x_iris[idx][0], x_iris[idx][1], c='white', marker='s')\n",
        "\n",
        "plt.xlabel('sepal length')\n",
        "plt.ylabel('sepal width')\n",
        "plt.xlim(xx.min(), xx.max())\n",
        "plt.ylim(yy.min(), yy.max())\n",
        "plt.xticks(())\n",
        "plt.yticks(())\n",
        "plt.title('SVC with linear kernel')\n",
        "plt.show()\n"
      ]
    },
    {
      "cell_type": "markdown",
      "metadata": {
        "id": "EVz_GHIpNLpm"
      },
      "source": [
        "여기서 잠깐"
      ]
    },
    {
      "cell_type": "code",
      "execution_count": 19,
      "metadata": {
        "colab": {
          "base_uri": "https://localhost:8080/"
        },
        "id": "L-Qge_-5Hyr-",
        "outputId": "c2004880-d26c-4bad-ca36-82dd0f3e87da"
      },
      "outputs": [
        {
          "data": {
            "text/plain": [
              "[[1, 2, 3], [4, 5, 6]]"
            ]
          },
          "execution_count": 19,
          "metadata": {},
          "output_type": "execute_result"
        }
      ],
      "source": [
        "xx = [[1,2,3], [4,5,6]]\n",
        "xx"
      ]
    },
    {
      "cell_type": "code",
      "execution_count": 20,
      "metadata": {
        "colab": {
          "base_uri": "https://localhost:8080/"
        },
        "id": "nkMAqCNsHyqP",
        "outputId": "273734b5-aca8-42e5-845b-34eaa9bcffb1"
      },
      "outputs": [
        {
          "name": "stdout",
          "output_type": "stream",
          "text": [
            "[[1 2 3]\n",
            " [4 5 6]]\n"
          ]
        },
        {
          "data": {
            "text/plain": [
              "array([1, 2, 3, 4, 5, 6])"
            ]
          },
          "execution_count": 20,
          "metadata": {},
          "output_type": "execute_result"
        }
      ],
      "source": [
        "# 리스트 >> 배열\n",
        "xx = np.array(xx)\n",
        "print(xx)\n",
        "xx.ravel() # 2차원 >> 1차원"
      ]
    },
    {
      "cell_type": "code",
      "execution_count": 21,
      "metadata": {
        "colab": {
          "base_uri": "https://localhost:8080/"
        },
        "id": "okQpJQdVHykn",
        "outputId": "00ba816d-f188-49f4-ec72-ea8cd1af25a4"
      },
      "outputs": [
        {
          "name": "stdout",
          "output_type": "stream",
          "text": [
            "[1 2 3]\n",
            "[4 5 6]\n"
          ]
        },
        {
          "data": {
            "text/plain": [
              "array([[1, 4],\n",
              "       [2, 5],\n",
              "       [3, 6]])"
            ]
          },
          "execution_count": 21,
          "metadata": {},
          "output_type": "execute_result"
        }
      ],
      "source": [
        "xx = np.array([1,2,3])\n",
        "yy = np.array([4,5,6])\n",
        "print(xx)\n",
        "print(yy)\n",
        "\n",
        "np.c_[xx, yy]"
      ]
    },
    {
      "cell_type": "markdown",
      "metadata": {},
      "source": [
        "#SVM kernel 비교 iris"
      ]
    },
    {
      "cell_type": "code",
      "execution_count": 22,
      "metadata": {
        "id": "nGkmzlahHyfM"
      },
      "outputs": [],
      "source": [
        "C = 1.0\n",
        "\n",
        "#SVC(linear)\n",
        "svc = svm.SVC(kernel='linear', C=C).fit(x_iris, y_iris)\n",
        "\n",
        "#SVM (radial kernel)\n",
        "rbf_svc = svm.SVC(kernel='rbf', gamma=1.5, C=C).fit(x_iris, y_iris)\n",
        "\n",
        "# SVM (polynomial kernel)\n",
        "poly_svc = svm.SVC(kernel='poly', degree=3, C=C).fit(x_iris, y_iris)"
      ]
    },
    {
      "cell_type": "code",
      "execution_count": 24,
      "metadata": {
        "id": "e11uVWhWHydE"
      },
      "outputs": [
        {
          "data": {
            "image/png": "[encoded data removed]",
            "text/plain": [
              "<Figure size 1200x300 with 3 Axes>"
            ]
          },
          "metadata": {},
          "output_type": "display_data"
        }
      ],
      "source": [
        "#SVC 시각화\n",
        "\n",
        "plt.figure(figsize=(12,3))\n",
        "\n",
        "h = 0.2 \n",
        "\n",
        "x_min, x_max = x_iris[: ,0].min() - 1, x_iris[:,0].max() + 1\n",
        "y_min, y_max = x_iris[: ,1].min() - 1, x_iris[:,1].max() + 1\n",
        "\n",
        "xx, yy = np.meshgrid(np.arange(x_min, x_max, h),\n",
        "                     (np.arange(y_min, y_max, h)))\n",
        "\n",
        "titles = [  'SVC with linear kernel',\n",
        "            'SVC with RBF kernel',\n",
        "            'SVC with polynomial(degree 3) kernel']\n",
        "\n",
        "for i, clf in enumerate((svc, rbf_svc, poly_svc)):\n",
        "    plt.subplot(1, 3, i+1)\n",
        "    plt.subplots_adjust(wspace=0.4, hspace=0.4)\n",
        "    #그림과 그림 사이 띄어 놓기 \n",
        "    \n",
        "    z = clf.predict(np.c_[xx.ravel(), yy.ravel()])\n",
        "    z = z.reshape(xx.shape)\n",
        "    plt.contourf(xx, yy, z, cmap=plt.cm.coolwarm, alpha=0.8)\n",
        "    #SVM 분류기의 결정 경계를 시각화하는 데 사용\n",
        "    \n",
        "    plt.scatter(x_iris[:, 0], x_iris[:, 1], c=y_iris, cmap=plt.cm.coolwarm)\n",
        "    plt.xlabel('sepal length')\n",
        "    plt.ylabel('sepal width')\n",
        "    plt.xlim(xx.min(), xx.max())\n",
        "    plt.ylim(yy.min(), yy.max())\n",
        "    plt.xticks(())\n",
        "    plt.yticks(())\n",
        "    plt.title(titles[i])\n",
        "\n",
        "plt.show()\n"
      ]
    },
    {
      "cell_type": "code",
      "execution_count": null,
      "metadata": {
        "id": "aO88GLAzHya4"
      },
      "outputs": [],
      "source": []
    },
    {
      "cell_type": "code",
      "execution_count": null,
      "metadata": {
        "id": "nEnmfyKrHyY-"
      },
      "outputs": [],
      "source": []
    }
  ],
  "metadata": {
    "accelerator": "GPU",
    "colab": {
      "gpuType": "T4",
      "provenance": []
    },
    "kernelspec": {
      "display_name": "Python 3",
      "name": "python3"
    },
    "language_info": {
      "codemirror_mode": {
        "name": "ipython",
        "version": 3
      },
      "file_extension": ".py",
      "mimetype": "text/x-python",
      "name": "python",
      "nbconvert_exporter": "python",
      "pygments_lexer": "ipython3",
      "version": "3.11.7"
    }
  },
  "nbformat": 4,
  "nbformat_minor": 0
}
