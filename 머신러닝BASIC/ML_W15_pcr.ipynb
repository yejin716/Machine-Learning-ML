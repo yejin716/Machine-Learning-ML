{
  "cells": [
    {
      "cell_type": "code",
      "execution_count": 24,
      "metadata": {
        "id": "_wcmuI68eq-3"
      },
      "outputs": [],
      "source": [
        "import numpy as np\n",
        "import pandas as pd\n",
        "import matplotlib.pyplot as plt\n",
        "\n",
        "from sklearn.decomposition import PCA\n",
        "from sklearn import datasets, linear_model\n",
        "from sklearn.metrics import mean_squared_error, r2_score\n"
      ]
    },
    {
      "cell_type": "code",
      "execution_count": 25,
      "metadata": {
        "id": "L1MoD7Qae_pL"
      },
      "outputs": [],
      "source": [
        "path = '../../data/data자료/Advertising.csv'\n",
        "ad = pd.read_csv(path, index_col=0)"
      ]
    },
    {
      "cell_type": "code",
      "execution_count": 26,
      "metadata": {},
      "outputs": [
        {
          "data": {
            "text/plain": [
              "(200, 4)"
            ]
          },
          "execution_count": 26,
          "metadata": {},
          "output_type": "execute_result"
        }
      ],
      "source": [
        "#pcr 모델 적용 \n",
        "\n",
        "# 독립변수(x), 종속변수(y) 분리 \n",
        "\n",
        "ad.shape"
      ]
    },
    {
      "cell_type": "code",
      "execution_count": 27,
      "metadata": {},
      "outputs": [],
      "source": [
        "x = ad.iloc[:, :-1] # tv, newspapers, radio\n",
        "y = ad.iloc[:, -1:] # sales"
      ]
    },
    {
      "cell_type": "code",
      "execution_count": 28,
      "metadata": {},
      "outputs": [
        {
          "data": {
            "text/plain": [
              "(200, 3)"
            ]
          },
          "execution_count": 28,
          "metadata": {},
          "output_type": "execute_result"
        }
      ],
      "source": [
        "x.shape"
      ]
    },
    {
      "cell_type": "code",
      "execution_count": 29,
      "metadata": {},
      "outputs": [
        {
          "data": {
            "text/plain": [
              "(200, 1)"
            ]
          },
          "execution_count": 29,
          "metadata": {},
          "output_type": "execute_result"
        }
      ],
      "source": [
        "y.shape"
      ]
    },
    {
      "cell_type": "code",
      "execution_count": 30,
      "metadata": {},
      "outputs": [],
      "source": [
        "pca = PCA(n_components=2) # 변수 3개를 2개로 "
      ]
    },
    {
      "cell_type": "code",
      "execution_count": 31,
      "metadata": {},
      "outputs": [
        {
          "data": {
            "text/html": [
              "<style>#sk-container-id-2 {color: black;background-color: white;}#sk-container-id-2 pre{padding: 0;}#sk-container-id-2 div.sk-toggleable {background-color: white;}#sk-container-id-2 label.sk-toggleable__label {cursor: pointer;display: block;width: 100%;margin-bottom: 0;padding: 0.3em;box-sizing: border-box;text-align: center;}#sk-container-id-2 label.sk-toggleable__label-arrow:before {content: \"▸\";float: left;margin-right: 0.25em;color: #696969;}#sk-container-id-2 label.sk-toggleable__label-arrow:hover:before {color: black;}#sk-container-id-2 div.sk-estimator:hover label.sk-toggleable__label-arrow:before {color: black;}#sk-container-id-2 div.sk-toggleable__content {max-height: 0;max-width: 0;overflow: hidden;text-align: left;background-color: #f0f8ff;}#sk-container-id-2 div.sk-toggleable__content pre {margin: 0.2em;color: black;border-radius: 0.25em;background-color: #f0f8ff;}#sk-container-id-2 input.sk-toggleable__control:checked~div.sk-toggleable__content {max-height: 200px;max-width: 100%;overflow: auto;}#sk-container-id-2 input.sk-toggleable__control:checked~label.sk-toggleable__label-arrow:before {content: \"▾\";}#sk-container-id-2 div.sk-estimator input.sk-toggleable__control:checked~label.sk-toggleable__label {background-color: #d4ebff;}#sk-container-id-2 div.sk-label input.sk-toggleable__control:checked~label.sk-toggleable__label {background-color: #d4ebff;}#sk-container-id-2 input.sk-hidden--visually {border: 0;clip: rect(1px 1px 1px 1px);clip: rect(1px, 1px, 1px, 1px);height: 1px;margin: -1px;overflow: hidden;padding: 0;position: absolute;width: 1px;}#sk-container-id-2 div.sk-estimator {font-family: monospace;background-color: #f0f8ff;border: 1px dotted black;border-radius: 0.25em;box-sizing: border-box;margin-bottom: 0.5em;}#sk-container-id-2 div.sk-estimator:hover {background-color: #d4ebff;}#sk-container-id-2 div.sk-parallel-item::after {content: \"\";width: 100%;border-bottom: 1px solid gray;flex-grow: 1;}#sk-container-id-2 div.sk-label:hover label.sk-toggleable__label {background-color: #d4ebff;}#sk-container-id-2 div.sk-serial::before {content: \"\";position: absolute;border-left: 1px solid gray;box-sizing: border-box;top: 0;bottom: 0;left: 50%;z-index: 0;}#sk-container-id-2 div.sk-serial {display: flex;flex-direction: column;align-items: center;background-color: white;padding-right: 0.2em;padding-left: 0.2em;position: relative;}#sk-container-id-2 div.sk-item {position: relative;z-index: 1;}#sk-container-id-2 div.sk-parallel {display: flex;align-items: stretch;justify-content: center;background-color: white;position: relative;}#sk-container-id-2 div.sk-item::before, #sk-container-id-2 div.sk-parallel-item::before {content: \"\";position: absolute;border-left: 1px solid gray;box-sizing: border-box;top: 0;bottom: 0;left: 50%;z-index: -1;}#sk-container-id-2 div.sk-parallel-item {display: flex;flex-direction: column;z-index: 1;position: relative;background-color: white;}#sk-container-id-2 div.sk-parallel-item:first-child::after {align-self: flex-end;width: 50%;}#sk-container-id-2 div.sk-parallel-item:last-child::after {align-self: flex-start;width: 50%;}#sk-container-id-2 div.sk-parallel-item:only-child::after {width: 0;}#sk-container-id-2 div.sk-dashed-wrapped {border: 1px dashed gray;margin: 0 0.4em 0.5em 0.4em;box-sizing: border-box;padding-bottom: 0.4em;background-color: white;}#sk-container-id-2 div.sk-label label {font-family: monospace;font-weight: bold;display: inline-block;line-height: 1.2em;}#sk-container-id-2 div.sk-label-container {text-align: center;}#sk-container-id-2 div.sk-container {/* jupyter's `normalize.less` sets `[hidden] { display: none; }` but bootstrap.min.css set `[hidden] { display: none !important; }` so we also need the `!important` here to be able to override the default hidden behavior on the sphinx rendered scikit-learn.org. See: https://github.com/scikit-learn/scikit-learn/issues/21755 */display: inline-block !important;position: relative;}#sk-container-id-2 div.sk-text-repr-fallback {display: none;}</style><div id=\"sk-container-id-2\" class=\"sk-top-container\"><div class=\"sk-text-repr-fallback\"><pre>PCA(n_components=2)</pre><b>In a Jupyter environment, please rerun this cell to show the HTML representation or trust the notebook. <br />On GitHub, the HTML representation is unable to render, please try loading this page with nbviewer.org.</b></div><div class=\"sk-container\" hidden><div class=\"sk-item\"><div class=\"sk-estimator sk-toggleable\"><input class=\"sk-toggleable__control sk-hidden--visually\" id=\"sk-estimator-id-2\" type=\"checkbox\" checked><label for=\"sk-estimator-id-2\" class=\"sk-toggleable__label sk-toggleable__label-arrow\">PCA</label><div class=\"sk-toggleable__content\"><pre>PCA(n_components=2)</pre></div></div></div></div></div>"
            ],
            "text/plain": [
              "PCA(n_components=2)"
            ]
          },
          "execution_count": 31,
          "metadata": {},
          "output_type": "execute_result"
        }
      ],
      "source": [
        "pca.fit(x)"
      ]
    },
    {
      "cell_type": "code",
      "execution_count": 32,
      "metadata": {},
      "outputs": [
        {
          "data": {
            "text/plain": [
              "array([0.91415577, 0.06398422])"
            ]
          },
          "execution_count": 32,
          "metadata": {},
          "output_type": "execute_result"
        }
      ],
      "source": [
        "pca.explained_variance_ratio_\n",
        "# 2개 변수 >> 97%"
      ]
    },
    {
      "cell_type": "code",
      "execution_count": 33,
      "metadata": {},
      "outputs": [],
      "source": [
        "#pc_score\n",
        "z = pca.fit_transform(x) # pca로 변환된 데이터"
      ]
    },
    {
      "cell_type": "code",
      "execution_count": 34,
      "metadata": {},
      "outputs": [
        {
          "data": {
            "text/plain": [
              "array([[ 8.37885459e+01,  3.97809922e+01],\n",
              "       [-1.02138730e+02,  2.11666084e+01],\n",
              "       [-1.28992484e+02,  4.66162737e+01],\n",
              "       [ 5.07097169e+00,  3.24605596e+01],\n",
              "       [ 3.40590034e+01,  2.09381554e+01],\n",
              "       [-1.37372550e+02,  5.31645709e+01],\n",
              "       [-8.95411919e+01, -1.56105218e+00],\n",
              "       [-2.71687122e+01, -1.85233852e+01],\n",
              "       [-1.39089396e+02, -3.26587125e+01],\n",
              "       [ 5.23964374e+01, -1.70725851e+01],\n",
              "       [-8.12021689e+01, -1.07115904e+01],\n",
              "       [ 6.72413078e+01, -2.57554904e+01],\n",
              "       [-1.22554515e+02,  3.94626040e+01],\n",
              "       [-5.00532789e+01, -2.65102072e+01],\n",
              "       [ 5.73839300e+01,  1.68358060e+01],\n",
              "       [ 4.89406812e+01,  2.87251422e+01],\n",
              "       [-7.78006550e+01,  8.41188799e+01],\n",
              "       [ 1.34889902e+02,  2.69844146e+01],\n",
              "       [-7.80470423e+01, -1.10237502e+01],\n",
              "       [ 8.60991305e-02, -1.04730127e+01],\n",
              "       [ 7.17442417e+01,  2.16291631e+01],\n",
              "       [ 9.00507477e+01, -1.47109210e+01],\n",
              "       [-1.33597890e+02,  1.75720041e+01],\n",
              "       [ 8.11123565e+01, -7.80836567e+00],\n",
              "       [-8.50249744e+01, -1.37222243e+01],\n",
              "       [ 1.15468311e+02, -1.94786694e+01],\n",
              "       [-4.35993325e+00, -1.45333861e+01],\n",
              "       [ 9.28571371e+01, -1.11745835e+01],\n",
              "       [ 1.01659797e+02, -7.61523086e+00],\n",
              "       [-7.63432223e+01,  8.35311738e+00],\n",
              "       [ 1.46079277e+02,  1.09726399e+01],\n",
              "       [-3.40705528e+01,  6.03469083e+00],\n",
              "       [-5.00605361e+01, -7.39426176e+00],\n",
              "       [ 1.18035162e+02, -3.15597687e+01],\n",
              "       [-5.19119540e+01, -2.85065681e+01],\n",
              "       [ 1.43098897e+02, -3.00383203e+01],\n",
              "       [ 1.19646195e+02, -1.86892193e+01],\n",
              "       [-7.18334307e+01,  2.47905053e+01],\n",
              "       [-1.03819829e+02,  7.35123207e+00],\n",
              "       [ 8.11106897e+01,  5.04618000e+00],\n",
              "       [ 5.54546196e+01, -3.69911780e-01],\n",
              "       [ 3.01802881e+01,  1.06875309e+01],\n",
              "       [ 1.46130767e+02, -2.79133738e+01],\n",
              "       [ 5.96339922e+01, -1.02724729e+01],\n",
              "       [-1.21699538e+02,  1.49762297e+01],\n",
              "       [ 2.80597433e+01,  1.03320750e-01],\n",
              "       [-5.73866975e+01,  1.06572132e+00],\n",
              "       [ 9.28372403e+01, -6.41706359e+00],\n",
              "       [ 8.03692695e+01,  1.39492599e+01],\n",
              "       [-8.01477164e+01,  3.14815723e+00],\n",
              "       [ 5.26093651e+01, -4.38110472e+00],\n",
              "       [-4.71896052e+01, -2.92095353e+01],\n",
              "       [ 6.96706482e+01,  1.37820618e+01],\n",
              "       [ 3.62178389e+01,  3.38363923e+01],\n",
              "       [ 1.15465834e+02, -1.37954355e+01],\n",
              "       [ 5.25672747e+01,  3.58993265e+01],\n",
              "       [-1.39501951e+02,  1.43813562e+01],\n",
              "       [-1.10978639e+01, -1.42865076e+01],\n",
              "       [ 6.41212307e+01,  1.49322178e+01],\n",
              "       [ 6.33793030e+01, -1.87686222e+01],\n",
              "       [-9.38815186e+01, -1.44564903e+01],\n",
              "       [ 1.14807304e+02,  2.74282903e+01],\n",
              "       [ 9.21135295e+01, -7.48028136e+00],\n",
              "       [-4.46152429e+01, -1.76216545e+01],\n",
              "       [-1.57698165e+01,  5.72503372e+00],\n",
              "       [-7.86291491e+01, -3.12705574e+01],\n",
              "       [-1.15949372e+02, -2.39113313e+01],\n",
              "       [-8.14476270e+00, -2.19983923e+01],\n",
              "       [ 9.00811002e+01, -1.83783918e+01],\n",
              "       [ 6.99002060e+01,  2.98202244e+00],\n",
              "       [ 5.22484807e+01,  9.28755228e+00],\n",
              "       [-3.73081305e+01, -1.46027083e+00],\n",
              "       [-1.20299123e+02, -4.85672914e+00],\n",
              "       [-1.78037980e+01, -5.26129051e+00],\n",
              "       [ 6.60887377e+01, -1.70200830e+01],\n",
              "       [-1.29002582e+02,  6.46046966e+01],\n",
              "       [-1.19891952e+02, -1.47832489e+01],\n",
              "       [-2.67392980e+01, -1.29204251e+01],\n",
              "       [-1.41880129e+02, -1.48223686e+01],\n",
              "       [-3.13087204e+01, -1.19615036e+01],\n",
              "       [-7.07241188e+01, -5.20304925e+00],\n",
              "       [ 9.26482454e+01, -2.59885400e+00],\n",
              "       [-7.17297513e+01,  2.05437765e+00],\n",
              "       [-7.83381403e+01,  1.37219867e+01],\n",
              "       [ 6.66941651e+01,  8.88305038e+00],\n",
              "       [ 4.66462637e+01,  3.02467058e+01],\n",
              "       [-7.09138445e+01, -1.07982355e+01],\n",
              "       [-3.56561528e+01,  3.73365111e+01],\n",
              "       [-5.80452727e+01,  4.18697931e+01],\n",
              "       [-3.66669946e+01,  2.89070500e+01],\n",
              "       [-1.32540071e+01, -2.61791288e+01],\n",
              "       [-1.18602288e+02, -3.35323383e+00],\n",
              "       [ 7.11893332e+01,  2.89437437e+01],\n",
              "       [ 1.04620082e+02,  4.18353012e+01],\n",
              "       [-4.00334681e+01, -2.09469622e+01],\n",
              "       [ 1.66849335e+01,  2.35516803e+01],\n",
              "       [ 4.99684229e+01, -3.09982053e+01],\n",
              "       [ 3.76956449e+01, -9.48083069e+00],\n",
              "       [ 1.43144148e+02,  2.35038670e+01],\n",
              "       [-1.14177507e+01,  2.11322917e+01],\n",
              "       [ 7.54533780e+01,  9.83295361e+00],\n",
              "       [ 1.50554091e+02,  6.76480307e+01],\n",
              "       [ 1.32860933e+02, -1.56584994e+01],\n",
              "       [ 4.05934634e+01, -1.47215629e+01],\n",
              "       [ 9.08606136e+01, -2.12853931e+01],\n",
              "       [-8.46788059e+00,  3.49957655e+01],\n",
              "       [-1.22157748e+02, -2.97474705e+00],\n",
              "       [-5.69769050e+01, -1.40499940e+01],\n",
              "       [-1.34225482e+02, -1.03762887e+01],\n",
              "       [ 1.07986682e+02, -2.40539336e+01],\n",
              "       [ 7.89958123e+01,  1.74216257e+01],\n",
              "       [ 9.46748126e+01, -3.31154155e+00],\n",
              "       [ 2.81370138e+01, -2.96181120e+01],\n",
              "       [ 6.22120911e+01, -2.06219618e+01],\n",
              "       [-6.85338479e+01,  1.33396565e+01],\n",
              "       [-7.14690819e+01,  2.61737961e+01],\n",
              "       [-8.00779467e+00, -7.68767655e+00],\n",
              "       [-7.10998491e+01, -2.14621663e+01],\n",
              "       [-2.04474981e+01,  5.06838646e+01],\n",
              "       [-1.27821546e+02, -7.99679230e+00],\n",
              "       [-5.46334123e+00,  1.59774984e+01],\n",
              "       [-1.27928352e+02,  2.02905422e+01],\n",
              "       [ 7.65034155e+01, -2.28105998e+01],\n",
              "       [-2.41065870e+01, -1.24683226e+01],\n",
              "       [ 8.32111548e+01,  4.24952967e+01],\n",
              "       [-6.00193065e+01, -7.36126495e+00],\n",
              "       [-1.38751136e+02,  2.68227112e+01],\n",
              "       [-6.73954004e+01, -2.70459546e+01],\n",
              "       [ 7.30782839e+01, -1.76696609e+01],\n",
              "       [-8.73457136e+01,  9.27016577e+00],\n",
              "       [-1.46493056e+02, -1.19246750e+01],\n",
              "       [ 1.18126548e+02,  2.20943858e+00],\n",
              "       [-1.39020948e+02, -2.26581335e+01],\n",
              "       [ 7.30732961e+01,  1.59261004e+01],\n",
              "       [-1.09426355e+02,  4.01965078e+01],\n",
              "       [-9.88301746e+01, -1.03271206e+01],\n",
              "       [-1.21594001e+02, -1.20287800e+01],\n",
              "       [ 1.27144582e+02,  2.69415674e+01],\n",
              "       [-1.04154364e+02, -6.56619910e+00],\n",
              "       [ 3.76099759e+01, -2.02531900e+01],\n",
              "       [-7.39665957e+01, -1.73928869e+01],\n",
              "       [ 4.74700257e+01,  4.55573610e+01],\n",
              "       [ 7.36584540e+01,  9.08294706e+00],\n",
              "       [-4.25514677e+01, -1.91838331e+00],\n",
              "       [-5.07890857e+01,  5.68746793e+00],\n",
              "       [-7.28972654e+00, -2.76397778e+01],\n",
              "       [ 9.25426737e+01, -2.77936215e+01],\n",
              "       [ 9.66121059e+01,  2.02953278e+01],\n",
              "       [-1.09142754e+02, -9.36042998e+00],\n",
              "       [-1.02454103e+02, -6.53927655e+00],\n",
              "       [ 1.33640957e+02,  2.57581471e-01],\n",
              "       [-2.59053416e+01,  1.21033454e+01],\n",
              "       [ 5.02954823e+01, -1.61719658e+01],\n",
              "       [ 2.45288304e+01,  1.21081261e+01],\n",
              "       [ 4.04021958e+01, -2.11698870e+01],\n",
              "       [-1.43420571e+02, -2.47936341e+01],\n",
              "       [-5.26213071e+01,  2.68173054e+01],\n",
              "       [ 2.44004722e+00, -1.37388655e+01],\n",
              "       [-1.34955618e+02,  2.09950392e+01],\n",
              "       [-1.53258109e+01,  2.31715871e+00],\n",
              "       [ 2.54037129e+01, -2.16912234e+00],\n",
              "       [-6.09156346e+01,  2.30932465e+01],\n",
              "       [ 4.12218674e+01, -7.21878164e+00],\n",
              "       [ 1.62309714e+01, -1.70811395e+01],\n",
              "       [-3.03134703e+01, -2.60097525e+01],\n",
              "       [ 8.80853788e+01,  4.19753556e+01],\n",
              "       [-1.29115854e+02, -9.04313230e-01],\n",
              "       [ 5.93933498e+01, -1.79507622e+01],\n",
              "       [ 6.87688660e+01,  2.41401119e+01],\n",
              "       [ 1.36732494e+02, -2.95607732e+01],\n",
              "       [-9.73313390e+01, -1.37639371e+01],\n",
              "       [ 1.76922409e+01,  1.45703678e+01],\n",
              "       [-1.27662761e+02, -1.14843131e+01],\n",
              "       [ 2.09165157e+01, -2.27408766e+01],\n",
              "       [ 7.48749109e+01, -2.47588016e+01],\n",
              "       [ 1.30266566e+02,  1.73161291e+01],\n",
              "       [ 1.01250565e+02, -8.92803585e+00],\n",
              "       [ 2.30707875e+01, -1.60633226e+00],\n",
              "       [ 1.29319110e+02, -1.62349587e+01],\n",
              "       [ 1.82205122e+01, -1.71717309e+01],\n",
              "       [ 9.00364188e+00, -2.83378314e+01],\n",
              "       [ 7.12174892e+01, -1.06203899e+01],\n",
              "       [-9.10161413e+01, -5.43257556e+00],\n",
              "       [ 1.41371155e+02,  4.30280636e+01],\n",
              "       [ 1.06711031e+02, -3.14837031e+00],\n",
              "       [ 5.79963096e+01, -3.47271912e+00],\n",
              "       [-7.81449738e+00, -1.11191274e+01],\n",
              "       [ 4.39127311e+01, -1.03895852e+01],\n",
              "       [ 1.38423355e+02, -3.09334334e+01],\n",
              "       [-1.28543412e+02, -8.35068581e+00],\n",
              "       [-1.07729650e+02, -1.47977713e+01],\n",
              "       [-7.20361029e+01, -2.60896399e+01],\n",
              "       [-1.29996031e+02, -3.52539232e+00],\n",
              "       [ 1.95235176e+01, -1.88308946e+01],\n",
              "       [ 2.39958515e+00, -1.85679051e+01],\n",
              "       [-1.09279811e+02, -2.06693030e+01],\n",
              "       [-5.33657885e+01, -2.65750400e+01],\n",
              "       [ 2.94377740e+01, -2.80863504e+01],\n",
              "       [ 1.37274931e+02,  3.75137548e+01],\n",
              "       [ 8.45570559e+01, -2.71844843e+01]])"
            ]
          },
          "execution_count": 34,
          "metadata": {},
          "output_type": "execute_result"
        }
      ],
      "source": [
        "z #스탠다드 스케일링한 값 "
      ]
    },
    {
      "cell_type": "code",
      "execution_count": 39,
      "metadata": {},
      "outputs": [],
      "source": [
        "# PCA 한 후 scaled 된 값 활용 z\n",
        "# >> 훈련용 데이터, 테스트 데이터 구분 \n",
        "\n",
        "from sklearn.model_selection import train_test_split\n",
        "\n",
        "#pca로 변환된 데이터로 구분\n",
        "z_train, z_test, y_train, y_test = \\\n",
        "train_test_split(z, y, test_size=0.2, random_state=42)"
      ]
    },
    {
      "cell_type": "code",
      "execution_count": 40,
      "metadata": {},
      "outputs": [
        {
          "data": {
            "text/plain": [
              "array([[ -31.3087204 ,  -11.96150355],\n",
              "       [  29.43777398,  -28.08635036],\n",
              "       [-103.81982916,    7.35123207],\n",
              "       [ -85.02497438,  -13.72222433]])"
            ]
          },
          "execution_count": 40,
          "metadata": {},
          "output_type": "execute_result"
        }
      ],
      "source": [
        "z_train[:4]"
      ]
    },
    {
      "cell_type": "code",
      "execution_count": 41,
      "metadata": {},
      "outputs": [
        {
          "data": {
            "text/plain": [
              "((160, 2), (40, 2), (160, 1), (40, 1))"
            ]
          },
          "execution_count": 41,
          "metadata": {},
          "output_type": "execute_result"
        }
      ],
      "source": [
        "z_train.shape, z_test.shape, y_train.shape, y_test.shape"
      ]
    },
    {
      "cell_type": "code",
      "execution_count": 42,
      "metadata": {},
      "outputs": [
        {
          "data": {
            "text/html": [
              "<style>#sk-container-id-3 {color: black;background-color: white;}#sk-container-id-3 pre{padding: 0;}#sk-container-id-3 div.sk-toggleable {background-color: white;}#sk-container-id-3 label.sk-toggleable__label {cursor: pointer;display: block;width: 100%;margin-bottom: 0;padding: 0.3em;box-sizing: border-box;text-align: center;}#sk-container-id-3 label.sk-toggleable__label-arrow:before {content: \"▸\";float: left;margin-right: 0.25em;color: #696969;}#sk-container-id-3 label.sk-toggleable__label-arrow:hover:before {color: black;}#sk-container-id-3 div.sk-estimator:hover label.sk-toggleable__label-arrow:before {color: black;}#sk-container-id-3 div.sk-toggleable__content {max-height: 0;max-width: 0;overflow: hidden;text-align: left;background-color: #f0f8ff;}#sk-container-id-3 div.sk-toggleable__content pre {margin: 0.2em;color: black;border-radius: 0.25em;background-color: #f0f8ff;}#sk-container-id-3 input.sk-toggleable__control:checked~div.sk-toggleable__content {max-height: 200px;max-width: 100%;overflow: auto;}#sk-container-id-3 input.sk-toggleable__control:checked~label.sk-toggleable__label-arrow:before {content: \"▾\";}#sk-container-id-3 div.sk-estimator input.sk-toggleable__control:checked~label.sk-toggleable__label {background-color: #d4ebff;}#sk-container-id-3 div.sk-label input.sk-toggleable__control:checked~label.sk-toggleable__label {background-color: #d4ebff;}#sk-container-id-3 input.sk-hidden--visually {border: 0;clip: rect(1px 1px 1px 1px);clip: rect(1px, 1px, 1px, 1px);height: 1px;margin: -1px;overflow: hidden;padding: 0;position: absolute;width: 1px;}#sk-container-id-3 div.sk-estimator {font-family: monospace;background-color: #f0f8ff;border: 1px dotted black;border-radius: 0.25em;box-sizing: border-box;margin-bottom: 0.5em;}#sk-container-id-3 div.sk-estimator:hover {background-color: #d4ebff;}#sk-container-id-3 div.sk-parallel-item::after {content: \"\";width: 100%;border-bottom: 1px solid gray;flex-grow: 1;}#sk-container-id-3 div.sk-label:hover label.sk-toggleable__label {background-color: #d4ebff;}#sk-container-id-3 div.sk-serial::before {content: \"\";position: absolute;border-left: 1px solid gray;box-sizing: border-box;top: 0;bottom: 0;left: 50%;z-index: 0;}#sk-container-id-3 div.sk-serial {display: flex;flex-direction: column;align-items: center;background-color: white;padding-right: 0.2em;padding-left: 0.2em;position: relative;}#sk-container-id-3 div.sk-item {position: relative;z-index: 1;}#sk-container-id-3 div.sk-parallel {display: flex;align-items: stretch;justify-content: center;background-color: white;position: relative;}#sk-container-id-3 div.sk-item::before, #sk-container-id-3 div.sk-parallel-item::before {content: \"\";position: absolute;border-left: 1px solid gray;box-sizing: border-box;top: 0;bottom: 0;left: 50%;z-index: -1;}#sk-container-id-3 div.sk-parallel-item {display: flex;flex-direction: column;z-index: 1;position: relative;background-color: white;}#sk-container-id-3 div.sk-parallel-item:first-child::after {align-self: flex-end;width: 50%;}#sk-container-id-3 div.sk-parallel-item:last-child::after {align-self: flex-start;width: 50%;}#sk-container-id-3 div.sk-parallel-item:only-child::after {width: 0;}#sk-container-id-3 div.sk-dashed-wrapped {border: 1px dashed gray;margin: 0 0.4em 0.5em 0.4em;box-sizing: border-box;padding-bottom: 0.4em;background-color: white;}#sk-container-id-3 div.sk-label label {font-family: monospace;font-weight: bold;display: inline-block;line-height: 1.2em;}#sk-container-id-3 div.sk-label-container {text-align: center;}#sk-container-id-3 div.sk-container {/* jupyter's `normalize.less` sets `[hidden] { display: none; }` but bootstrap.min.css set `[hidden] { display: none !important; }` so we also need the `!important` here to be able to override the default hidden behavior on the sphinx rendered scikit-learn.org. See: https://github.com/scikit-learn/scikit-learn/issues/21755 */display: inline-block !important;position: relative;}#sk-container-id-3 div.sk-text-repr-fallback {display: none;}</style><div id=\"sk-container-id-3\" class=\"sk-top-container\"><div class=\"sk-text-repr-fallback\"><pre>LinearRegression()</pre><b>In a Jupyter environment, please rerun this cell to show the HTML representation or trust the notebook. <br />On GitHub, the HTML representation is unable to render, please try loading this page with nbviewer.org.</b></div><div class=\"sk-container\" hidden><div class=\"sk-item\"><div class=\"sk-estimator sk-toggleable\"><input class=\"sk-toggleable__control sk-hidden--visually\" id=\"sk-estimator-id-3\" type=\"checkbox\" checked><label for=\"sk-estimator-id-3\" class=\"sk-toggleable__label sk-toggleable__label-arrow\">LinearRegression</label><div class=\"sk-toggleable__content\"><pre>LinearRegression()</pre></div></div></div></div></div>"
            ],
            "text/plain": [
              "LinearRegression()"
            ]
          },
          "execution_count": 42,
          "metadata": {},
          "output_type": "execute_result"
        }
      ],
      "source": [
        "#선형회귀 객체 생성 \n",
        "lr = linear_model.LinearRegression()\n",
        "\n",
        "lr.fit(z_train, y_train)"
      ]
    },
    {
      "cell_type": "code",
      "execution_count": 43,
      "metadata": {},
      "outputs": [],
      "source": [
        "#예측\n",
        "\n",
        "#1. training data 활용, 예측 \n",
        "z_train_pred = lr.predict(z_train)\n",
        "#2. test data 활용 ,예측(**)\n",
        "z_test_pred = lr.predict(z_test)\n"
      ]
    },
    {
      "cell_type": "code",
      "execution_count": 45,
      "metadata": {},
      "outputs": [
        {
          "data": {
            "text/plain": [
              "array([[11.60873346],\n",
              "       [13.23498023],\n",
              "       [ 9.67257788],\n",
              "       [ 8.9286559 ],\n",
              "       [15.87267065]])"
            ]
          },
          "execution_count": 45,
          "metadata": {},
          "output_type": "execute_result"
        }
      ],
      "source": [
        "z_train_pred[:5]"
      ]
    },
    {
      "cell_type": "code",
      "execution_count": 47,
      "metadata": {},
      "outputs": [
        {
          "data": {
            "text/html": [
              "<div>\n",
              "<style scoped>\n",
              "    .dataframe tbody tr th:only-of-type {\n",
              "        vertical-align: middle;\n",
              "    }\n",
              "\n",
              "    .dataframe tbody tr th {\n",
              "        vertical-align: top;\n",
              "    }\n",
              "\n",
              "    .dataframe thead th {\n",
              "        text-align: right;\n",
              "    }\n",
              "</style>\n",
              "<table border=\"1\" class=\"dataframe\">\n",
              "  <thead>\n",
              "    <tr style=\"text-align: right;\">\n",
              "      <th></th>\n",
              "      <th>Sales</th>\n",
              "    </tr>\n",
              "  </thead>\n",
              "  <tbody>\n",
              "    <tr>\n",
              "      <th>80</th>\n",
              "      <td>11.0</td>\n",
              "    </tr>\n",
              "    <tr>\n",
              "      <th>198</th>\n",
              "      <td>12.8</td>\n",
              "    </tr>\n",
              "    <tr>\n",
              "      <th>39</th>\n",
              "      <td>10.1</td>\n",
              "    </tr>\n",
              "    <tr>\n",
              "      <th>25</th>\n",
              "      <td>9.7</td>\n",
              "    </tr>\n",
              "    <tr>\n",
              "      <th>123</th>\n",
              "      <td>11.6</td>\n",
              "    </tr>\n",
              "  </tbody>\n",
              "</table>\n",
              "</div>"
            ],
            "text/plain": [
              "     Sales\n",
              "80    11.0\n",
              "198   12.8\n",
              "39    10.1\n",
              "25     9.7\n",
              "123   11.6"
            ]
          },
          "execution_count": 47,
          "metadata": {},
          "output_type": "execute_result"
        }
      ],
      "source": [
        "y_train[:5]"
      ]
    },
    {
      "cell_type": "code",
      "execution_count": 58,
      "metadata": {},
      "outputs": [
        {
          "data": {
            "text/plain": [
              "array([[16.6347724 ],\n",
              "       [18.56325639],\n",
              "       [21.78653861],\n",
              "       [ 9.25608939],\n",
              "       [16.1090779 ]])"
            ]
          },
          "execution_count": 58,
          "metadata": {},
          "output_type": "execute_result"
        }
      ],
      "source": [
        "z_test_pred[:5]"
      ]
    },
    {
      "cell_type": "code",
      "execution_count": 59,
      "metadata": {},
      "outputs": [
        {
          "data": {
            "text/html": [
              "<div>\n",
              "<style scoped>\n",
              "    .dataframe tbody tr th:only-of-type {\n",
              "        vertical-align: middle;\n",
              "    }\n",
              "\n",
              "    .dataframe tbody tr th {\n",
              "        vertical-align: top;\n",
              "    }\n",
              "\n",
              "    .dataframe thead th {\n",
              "        text-align: right;\n",
              "    }\n",
              "</style>\n",
              "<table border=\"1\" class=\"dataframe\">\n",
              "  <thead>\n",
              "    <tr style=\"text-align: right;\">\n",
              "      <th></th>\n",
              "      <th>Sales</th>\n",
              "    </tr>\n",
              "  </thead>\n",
              "  <tbody>\n",
              "    <tr>\n",
              "      <th>96</th>\n",
              "      <td>16.9</td>\n",
              "    </tr>\n",
              "    <tr>\n",
              "      <th>16</th>\n",
              "      <td>22.4</td>\n",
              "    </tr>\n",
              "    <tr>\n",
              "      <th>31</th>\n",
              "      <td>21.4</td>\n",
              "    </tr>\n",
              "    <tr>\n",
              "      <th>159</th>\n",
              "      <td>7.3</td>\n",
              "    </tr>\n",
              "    <tr>\n",
              "      <th>129</th>\n",
              "      <td>24.7</td>\n",
              "    </tr>\n",
              "  </tbody>\n",
              "</table>\n",
              "</div>"
            ],
            "text/plain": [
              "     Sales\n",
              "96    16.9\n",
              "16    22.4\n",
              "31    21.4\n",
              "159    7.3\n",
              "129   24.7"
            ]
          },
          "execution_count": 59,
          "metadata": {},
          "output_type": "execute_result"
        }
      ],
      "source": [
        "y_test[:5]"
      ]
    },
    {
      "cell_type": "code",
      "execution_count": 50,
      "metadata": {},
      "outputs": [
        {
          "name": "stdout",
          "output_type": "stream",
          "text": [
            "coefficients: [[0.04735184 0.07753322]]\n"
          ]
        }
      ],
      "source": [
        "#coef_ \n",
        "\n",
        "print('coefficients:', lr.coef_) #가중치"
      ]
    },
    {
      "cell_type": "code",
      "execution_count": 52,
      "metadata": {},
      "outputs": [
        {
          "name": "stdout",
          "output_type": "stream",
          "text": [
            "Training data MSE:7.746\n"
          ]
        }
      ],
      "source": [
        "#training data MSE \n",
        "print('Training data MSE:%.3f' %mean_squared_error(y_train, z_train_pred))"
      ]
    },
    {
      "cell_type": "code",
      "execution_count": 53,
      "metadata": {},
      "outputs": [
        {
          "name": "stdout",
          "output_type": "stream",
          "text": [
            "Test data MSE:10.560\n"
          ]
        }
      ],
      "source": [
        "#test data MSE (**)\n",
        "print('Test data MSE:%.3f' %mean_squared_error(y_test, z_test_pred))"
      ]
    },
    {
      "cell_type": "code",
      "execution_count": 57,
      "metadata": {},
      "outputs": [
        {
          "name": "stdout",
          "output_type": "stream",
          "text": [
            "r2 score: 0.701\n",
            "r2 score: 0.665\n"
          ]
        }
      ],
      "source": [
        "#결정계수 \n",
        "print(\"r2 score: %.3f\" %r2_score(y_train, z_train_pred))\n",
        "print(\"r2 score: %.3f\" %r2_score(y_test, z_test_pred))"
      ]
    },
    {
      "cell_type": "code",
      "execution_count": null,
      "metadata": {},
      "outputs": [],
      "source": []
    },
    {
      "cell_type": "code",
      "execution_count": null,
      "metadata": {},
      "outputs": [],
      "source": []
    },
    {
      "cell_type": "code",
      "execution_count": null,
      "metadata": {},
      "outputs": [],
      "source": []
    },
    {
      "cell_type": "code",
      "execution_count": null,
      "metadata": {},
      "outputs": [],
      "source": []
    }
  ],
  "metadata": {
    "accelerator": "GPU",
    "colab": {
      "gpuType": "T4",
      "provenance": []
    },
    "kernelspec": {
      "display_name": "Python 3",
      "name": "python3"
    },
    "language_info": {
      "codemirror_mode": {
        "name": "ipython",
        "version": 3
      },
      "file_extension": ".py",
      "mimetype": "text/x-python",
      "name": "python",
      "nbconvert_exporter": "python",
      "pygments_lexer": "ipython3",
      "version": "3.11.7"
    }
  },
  "nbformat": 4,
  "nbformat_minor": 0
}
